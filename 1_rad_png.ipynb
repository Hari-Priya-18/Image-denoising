{
  "nbformat": 4,
  "nbformat_minor": 0,
  "metadata": {
    "colab": {
      "provenance": [],
      "authorship_tag": "ABX9TyN49J44T/2x+kV/wqJ5Pptz",
      "include_colab_link": true
    },
    "kernelspec": {
      "name": "python3",
      "display_name": "Python 3"
    },
    "language_info": {
      "name": "python"
    }
  },
  "cells": [
    {
      "cell_type": "markdown",
      "metadata": {
        "id": "view-in-github",
        "colab_type": "text"
      },
      "source": [
        "<a href=\"https://colab.research.google.com/github/Haripriya-AIML/Image-denoising/blob/main/1_rad_png.ipynb\" target=\"_parent\"><img src=\"https://colab.research.google.com/assets/colab-badge.svg\" alt=\"Open In Colab\"/></a>"
      ]
    },
    {
      "cell_type": "code",
      "source": [
        "import os\n",
        "import numpy as np\n",
        "import matplotlib.pyplot as plt\n",
        "from PIL import Image\n",
        "\n",
        "# === Configuration ===\n",
        "# Change this to the actual path of your folder containing .rad files\n",
        "directory = r\"C:\\Users\\91807\\OneDrive\\Desktop\\Research\\noisy_hr_chips\\mx\"\n",
        "\n",
        "# Image parameters\n",
        "width = 512\n",
        "height = 512\n",
        "bit_depth = 12  # 12-bit images, usually stored as uint16\n",
        "\n",
        "# Output folder for PNGs\n",
        "output_folder = os.path.join(directory, \"converted_pngs\")\n",
        "os.makedirs(output_folder, exist_ok=True)\n",
        "\n",
        "# === Processing ===\n",
        "for filename in os.listdir(directory):\n",
        "    if filename.lower().endswith(\".rad\"):\n",
        "        filepath = os.path.join(directory, filename)\n",
        "        print(f\"Processing: {filename}\")\n",
        "\n",
        "        try:\n",
        "            # Load binary data\n",
        "            data = np.fromfile(filepath, dtype=np.uint16)\n",
        "\n",
        "            # Ensure correct length\n",
        "            if data.size != width * height:\n",
        "                print(f\"⚠️ Skipping {filename}: unexpected size {data.size}\")\n",
        "                continue\n",
        "\n",
        "            # Reshape to image\n",
        "            image = data.reshape((height, width))\n",
        "\n",
        "            # Normalize to 0–255 (8-bit) for saving\n",
        "            image_8bit = np.clip((image / 4095.0) * 255, 0, 255).astype(np.uint8)\n",
        "\n",
        "            # Show image\n",
        "            plt.imshow(image_8bit, cmap='gray')\n",
        "            plt.title(filename)\n",
        "            plt.axis('off')\n",
        "            plt.show()\n",
        "\n",
        "            # Save as PNG\n",
        "            output_path = os.path.join(output_folder, filename.replace(\".rad\", \".png\"))\n",
        "            Image.fromarray(image_8bit).save(output_path)\n",
        "            print(f\"✅ Saved to: {output_path}\")\n",
        "\n",
        "        except Exception as e:\n",
        "            print(f\"❌ Error processing {filename}: {e}\")\n"
      ],
      "metadata": {
        "id": "XdJo32VNhKeQ"
      },
      "execution_count": 5,
      "outputs": []
    },
    {
      "cell_type": "code",
      "source": [
        "print(\"🔍 Scanning directory:\", directory)\n",
        "\n",
        "for filename in os.listdir(directory):\n",
        "    if filename.lower().endswith(\".rad\"):\n",
        "        filepath = os.path.join(directory, filename)\n",
        "        print(f\"📂 Processing: {filename}\")\n",
        "        data = np.fromfile(filepath, dtype=np.uint16)\n",
        "        print(f\"    ⏹ Size: {data.size}\")\n",
        "\n",
        "        if data.size != 512 * 512:\n",
        "            print(\"    ⚠️ Skipping: Wrong size\")\n",
        "            continue\n",
        "\n",
        "        print(\"    ✅ Valid image file\")\n"
      ],
      "metadata": {
        "colab": {
          "base_uri": "https://localhost:8080/"
        },
        "id": "E5aK85ybiWfT",
        "outputId": "66beb901-60d0-45d2-8c2b-f3c7b8160566"
      },
      "execution_count": 7,
      "outputs": [
        {
          "output_type": "stream",
          "name": "stdout",
          "text": [
            "🔍 Scanning directory: C:\\Users\\91807\\OneDrive\\Desktop\\Research\\noisy_hr_chips\\mx\n"
          ]
        }
      ]
    },
    {
      "cell_type": "code",
      "source": [
        "plt.show(block=True)\n"
      ],
      "metadata": {
        "id": "ywZC0X8Yi5yg"
      },
      "execution_count": 8,
      "outputs": []
    },
    {
      "cell_type": "code",
      "source": [
        "import os\n",
        "import numpy as np\n",
        "\n",
        "directory = r\"C:\\Users\\91807\\OneDrive\\Desktop\\Research\\noisy_hr_chips\\mx\"\n",
        "\n",
        "for filename in os.listdir(directory):\n",
        "    if filename.lower().endswith(\".rad\"):\n",
        "        filepath = os.path.join(directory, filename)\n",
        "        data = np.fromfile(filepath, dtype=np.uint16)\n",
        "        print(f\"{filename}: size = {data.size}\")\n",
        "\n",
        "        if data.size != 512 * 512:\n",
        "            print(f\"⚠️ Skipping {filename} — size mismatch\")\n",
        "        else:\n",
        "            print(f\"✅ Valid image: {filename}\")\n"
      ],
      "metadata": {
        "id": "JmNs7pO8jgYb"
      },
      "execution_count": 10,
      "outputs": []
    }
  ]
}